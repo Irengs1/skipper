{
 "cells": [
  {
   "cell_type": "code",
   "execution_count": 1,
   "metadata": {},
   "outputs": [
    {
     "data": {
      "text/plain": [
       "{'jsonrpc': '2.0',\n",
       " 'id': 1,\n",
       " 'result': {'response': {'code': 18,\n",
       "   'log': 'Error parsing into type wyndex::pair::QueryMsg: unknown variant `not_real`, expected one of `pair`, `pool`, `config`, `share`, `simulation`, `reverse_simulation`, `cumulative_prices`, `query_compute_d`: query wasm contract failed: invalid request',\n",
       "   'info': '',\n",
       "   'index': '0',\n",
       "   'key': None,\n",
       "   'value': None,\n",
       "   'proofOps': None,\n",
       "   'height': '6987682',\n",
       "   'codespace': 'sdk'}}}"
      ]
     },
     "execution_count": 1,
     "metadata": {},
     "output_type": "execute_result"
    }
   ],
   "source": [
    "from src.querier.queriers.cosmwasm import CosmWasmQuerier\n",
    "\n",
    "querier = CosmWasmQuerier(rpc_url=\"https://rpc-juno-ia.cosmosia.notional.ventures/\")\n",
    "\n",
    "payload = querier.create_payload(\n",
    "    contract_address=\"juno17uv02azt545ag23xq7whw6z3r3chw7jwztnr9lypugy62drq3caqeyd2r3\",\n",
    "    query={\"not_real\":{}}\n",
    "    )\n",
    "\n",
    "response = await querier.query_node_and_return_response(\n",
    "    payload=payload,\n",
    "    decoded=False\n",
    "    )\n",
    "\n",
    "response"
   ]
  },
  {
   "cell_type": "code",
   "execution_count": 5,
   "metadata": {},
   "outputs": [
    {
     "data": {
      "text/plain": [
       "{'jsonrpc': '2.0',\n",
       " 'id': 1,\n",
       " 'method': 'abci_query',\n",
       " 'params': {'path': '/cosmwasm.wasm.v1.Query/SmartContractState',\n",
       "  'data': '0A3F6A756E6F313775763032617A7435343561673233787137776877367A337233636877376A777A746E72396C7970756779363264727133636171657964327233120C7B2270616972223A207B7D7D',\n",
       "  'prove': False,\n",
       "  'height': '6987682'}}"
      ]
     },
     "execution_count": 5,
     "metadata": {},
     "output_type": "execute_result"
    }
   ],
   "source": [
    "# if response is not an error, then you can turn decoded to True to see the return\n",
    "payload = querier.create_payload(\n",
    "    contract_address=\"juno17uv02azt545ag23xq7whw6z3r3chw7jwztnr9lypugy62drq3caqeyd2r3\",\n",
    "    query={\"pair\":{}},\n",
    "    height=\"6987682\"\n",
    "    )\n",
    "payload"
   ]
  },
  {
   "cell_type": "code",
   "execution_count": 6,
   "metadata": {},
   "outputs": [
    {
     "data": {
      "text/plain": [
       "{'asset_infos': [{'native': 'ujuno'},\n",
       "  {'native': 'ibc/C4CFF46FD6DE35CA4CF4CE031E643C8FDC9BA4B99AE598E9B0ED98FE3A2319F9'}],\n",
       " 'contract_addr': 'juno17uv02azt545ag23xq7whw6z3r3chw7jwztnr9lypugy62drq3caqeyd2r3',\n",
       " 'liquidity_token': 'juno1an2xhen0fzme85dpy7vx60f6ecrufqj6vqkh8gdvlyhfhjmp24qqqleeav',\n",
       " 'staking_addr': 'juno1nfs4xjxum3fqd564yxj44ragxmh8ey7ugl50avquyt7zrvcwlf8q3juqqg',\n",
       " 'pair_type': {'xyk': {}},\n",
       " 'fee_config': {'total_fee_bps': 30, 'protocol_fee_bps': 3333}}"
      ]
     },
     "execution_count": 6,
     "metadata": {},
     "output_type": "execute_result"
    }
   ],
   "source": [
    "response = await querier.query_node_and_return_response(\n",
    "    payload=payload,\n",
    "    decoded=True\n",
    "    )\n",
    "response"
   ]
  },
  {
   "cell_type": "code",
   "execution_count": null,
   "metadata": {},
   "outputs": [],
   "source": []
  }
 ],
 "metadata": {
  "kernelspec": {
   "display_name": "venv",
   "language": "python",
   "name": "python3"
  },
  "language_info": {
   "codemirror_mode": {
    "name": "ipython",
    "version": 3
   },
   "file_extension": ".py",
   "mimetype": "text/x-python",
   "name": "python",
   "nbconvert_exporter": "python",
   "pygments_lexer": "ipython3",
   "version": "3.10.8"
  },
  "orig_nbformat": 4,
  "vscode": {
   "interpreter": {
    "hash": "7bf37efb3762c496fa9237459a905dee71747cba5458d0c3e64528b7e7f9d139"
   }
  }
 },
 "nbformat": 4,
 "nbformat_minor": 2
}
